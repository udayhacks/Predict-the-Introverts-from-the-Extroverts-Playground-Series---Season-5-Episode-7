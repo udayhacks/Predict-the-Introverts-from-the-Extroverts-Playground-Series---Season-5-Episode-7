{
 "cells": [
  {
   "cell_type": "code",
   "execution_count": 27,
   "id": "ffc5cce5",
   "metadata": {
    "_cell_guid": "b1076dfc-b9ad-4769-8c92-a6c4dae69d19",
    "_uuid": "8f2839f25d086af736a60e9eeb907d3b93b6e0e5",
    "execution": {
     "iopub.execute_input": "2025-07-11T16:02:47.657452Z",
     "iopub.status.busy": "2025-07-11T16:02:47.657128Z",
     "iopub.status.idle": "2025-07-11T16:02:49.564959Z",
     "shell.execute_reply": "2025-07-11T16:02:49.564075Z"
    },
    "papermill": {
     "duration": 1.914805,
     "end_time": "2025-07-11T16:02:49.566763",
     "exception": false,
     "start_time": "2025-07-11T16:02:47.651958",
     "status": "completed"
    },
    "tags": []
   },
   "outputs": [],
   "source": [
    "\n",
    "# You can write up to 20GB to the current directory (/kaggle/working/) that gets preserved as output when you create a version using \"Save & Run All\" \n",
    "# You can also write temporary files to /kaggle/temp/, but they won't be saved outside of the current session"
   ]
  },
  {
   "cell_type": "code",
   "execution_count": 28,
   "id": "6c720a47",
   "metadata": {
    "execution": {
     "iopub.execute_input": "2025-07-11T16:02:49.575504Z",
     "iopub.status.busy": "2025-07-11T16:02:49.575082Z",
     "iopub.status.idle": "2025-07-11T16:02:49.618287Z",
     "shell.execute_reply": "2025-07-11T16:02:49.617392Z"
    },
    "papermill": {
     "duration": 0.049395,
     "end_time": "2025-07-11T16:02:49.620053",
     "exception": false,
     "start_time": "2025-07-11T16:02:49.570658",
     "status": "completed"
    },
    "tags": []
   },
   "outputs": [],
   "source": [
    "import pandas as pd\n",
    "import numpy as np\n",
    "import matplotlib.pyplot as plt\n",
    "import seaborn as sns   \n",
    "import warnings\n",
    "warnings.filterwarnings(\"ignore\")\n",
    "import os"
   ]
  },
  {
   "cell_type": "code",
   "execution_count": 29,
   "id": "f1e1d3d7",
   "metadata": {},
   "outputs": [],
   "source": [
    "train = pd.read_csv('train.csv')\n",
    "test = pd.read_csv('test.csv')"
   ]
  },
  {
   "cell_type": "code",
   "execution_count": 30,
   "id": "2047b2f6",
   "metadata": {
    "execution": {
     "iopub.execute_input": "2025-07-11T16:02:49.629064Z",
     "iopub.status.busy": "2025-07-11T16:02:49.628618Z",
     "iopub.status.idle": "2025-07-11T16:02:49.691703Z",
     "shell.execute_reply": "2025-07-11T16:02:49.690651Z"
    },
    "papermill": {
     "duration": 0.069221,
     "end_time": "2025-07-11T16:02:49.693119",
     "exception": false,
     "start_time": "2025-07-11T16:02:49.623898",
     "status": "completed"
    },
    "tags": []
   },
   "outputs": [
    {
     "name": "stdout",
     "output_type": "stream",
     "text": [
      "<class 'pandas.core.frame.DataFrame'>\n",
      "RangeIndex: 18524 entries, 0 to 18523\n",
      "Data columns (total 9 columns):\n",
      " #   Column                     Non-Null Count  Dtype  \n",
      "---  ------                     --------------  -----  \n",
      " 0   id                         18524 non-null  int64  \n",
      " 1   Time_spent_Alone           17334 non-null  float64\n",
      " 2   Stage_fear                 16631 non-null  object \n",
      " 3   Social_event_attendance    17344 non-null  float64\n",
      " 4   Going_outside              17058 non-null  float64\n",
      " 5   Drained_after_socializing  17375 non-null  object \n",
      " 6   Friends_circle_size        17470 non-null  float64\n",
      " 7   Post_frequency             17260 non-null  float64\n",
      " 8   Personality                18524 non-null  object \n",
      "dtypes: float64(5), int64(1), object(3)\n",
      "memory usage: 1.3+ MB\n"
     ]
    }
   ],
   "source": [
    "\n",
    "train.info()"
   ]
  },
  {
   "cell_type": "code",
   "execution_count": 31,
   "id": "574454e6",
   "metadata": {
    "execution": {
     "iopub.execute_input": "2025-07-11T16:02:49.701910Z",
     "iopub.status.busy": "2025-07-11T16:02:49.701553Z",
     "iopub.status.idle": "2025-07-11T16:02:49.707726Z",
     "shell.execute_reply": "2025-07-11T16:02:49.706777Z"
    },
    "papermill": {
     "duration": 0.012206,
     "end_time": "2025-07-11T16:02:49.709103",
     "exception": false,
     "start_time": "2025-07-11T16:02:49.696897",
     "status": "completed"
    },
    "tags": []
   },
   "outputs": [
    {
     "data": {
      "text/plain": [
       "Index(['id', 'Time_spent_Alone', 'Stage_fear', 'Social_event_attendance',\n",
       "       'Going_outside', 'Drained_after_socializing', 'Friends_circle_size',\n",
       "       'Post_frequency', 'Personality'],\n",
       "      dtype='object')"
      ]
     },
     "execution_count": 31,
     "metadata": {},
     "output_type": "execute_result"
    }
   ],
   "source": [
    "train.columns"
   ]
  },
  {
   "cell_type": "code",
   "execution_count": 32,
   "id": "49c5adbb",
   "metadata": {
    "execution": {
     "iopub.execute_input": "2025-07-11T16:02:49.718239Z",
     "iopub.status.busy": "2025-07-11T16:02:49.717331Z",
     "iopub.status.idle": "2025-07-11T16:02:49.745602Z",
     "shell.execute_reply": "2025-07-11T16:02:49.744650Z"
    },
    "papermill": {
     "duration": 0.034167,
     "end_time": "2025-07-11T16:02:49.747050",
     "exception": false,
     "start_time": "2025-07-11T16:02:49.712883",
     "status": "completed"
    },
    "tags": []
   },
   "outputs": [
    {
     "data": {
      "text/html": [
       "<div>\n",
       "<style scoped>\n",
       "    .dataframe tbody tr th:only-of-type {\n",
       "        vertical-align: middle;\n",
       "    }\n",
       "\n",
       "    .dataframe tbody tr th {\n",
       "        vertical-align: top;\n",
       "    }\n",
       "\n",
       "    .dataframe thead th {\n",
       "        text-align: right;\n",
       "    }\n",
       "</style>\n",
       "<table border=\"1\" class=\"dataframe\">\n",
       "  <thead>\n",
       "    <tr style=\"text-align: right;\">\n",
       "      <th></th>\n",
       "      <th>id</th>\n",
       "      <th>Time_spent_Alone</th>\n",
       "      <th>Social_event_attendance</th>\n",
       "      <th>Going_outside</th>\n",
       "      <th>Friends_circle_size</th>\n",
       "      <th>Post_frequency</th>\n",
       "    </tr>\n",
       "  </thead>\n",
       "  <tbody>\n",
       "    <tr>\n",
       "      <th>count</th>\n",
       "      <td>18524.000000</td>\n",
       "      <td>17334.000000</td>\n",
       "      <td>17344.000000</td>\n",
       "      <td>17058.000000</td>\n",
       "      <td>17470.000000</td>\n",
       "      <td>17260.000000</td>\n",
       "    </tr>\n",
       "    <tr>\n",
       "      <th>mean</th>\n",
       "      <td>9261.500000</td>\n",
       "      <td>3.137764</td>\n",
       "      <td>5.265106</td>\n",
       "      <td>4.044319</td>\n",
       "      <td>7.996737</td>\n",
       "      <td>4.982097</td>\n",
       "    </tr>\n",
       "    <tr>\n",
       "      <th>std</th>\n",
       "      <td>5347.562529</td>\n",
       "      <td>3.003786</td>\n",
       "      <td>2.753359</td>\n",
       "      <td>2.062580</td>\n",
       "      <td>4.223484</td>\n",
       "      <td>2.879139</td>\n",
       "    </tr>\n",
       "    <tr>\n",
       "      <th>min</th>\n",
       "      <td>0.000000</td>\n",
       "      <td>0.000000</td>\n",
       "      <td>0.000000</td>\n",
       "      <td>0.000000</td>\n",
       "      <td>0.000000</td>\n",
       "      <td>0.000000</td>\n",
       "    </tr>\n",
       "    <tr>\n",
       "      <th>25%</th>\n",
       "      <td>4630.750000</td>\n",
       "      <td>1.000000</td>\n",
       "      <td>3.000000</td>\n",
       "      <td>3.000000</td>\n",
       "      <td>5.000000</td>\n",
       "      <td>3.000000</td>\n",
       "    </tr>\n",
       "    <tr>\n",
       "      <th>50%</th>\n",
       "      <td>9261.500000</td>\n",
       "      <td>2.000000</td>\n",
       "      <td>5.000000</td>\n",
       "      <td>4.000000</td>\n",
       "      <td>8.000000</td>\n",
       "      <td>5.000000</td>\n",
       "    </tr>\n",
       "    <tr>\n",
       "      <th>75%</th>\n",
       "      <td>13892.250000</td>\n",
       "      <td>4.000000</td>\n",
       "      <td>8.000000</td>\n",
       "      <td>6.000000</td>\n",
       "      <td>12.000000</td>\n",
       "      <td>7.000000</td>\n",
       "    </tr>\n",
       "    <tr>\n",
       "      <th>max</th>\n",
       "      <td>18523.000000</td>\n",
       "      <td>11.000000</td>\n",
       "      <td>10.000000</td>\n",
       "      <td>7.000000</td>\n",
       "      <td>15.000000</td>\n",
       "      <td>10.000000</td>\n",
       "    </tr>\n",
       "  </tbody>\n",
       "</table>\n",
       "</div>"
      ],
      "text/plain": [
       "                 id  Time_spent_Alone  Social_event_attendance  Going_outside  \\\n",
       "count  18524.000000      17334.000000             17344.000000   17058.000000   \n",
       "mean    9261.500000          3.137764                 5.265106       4.044319   \n",
       "std     5347.562529          3.003786                 2.753359       2.062580   \n",
       "min        0.000000          0.000000                 0.000000       0.000000   \n",
       "25%     4630.750000          1.000000                 3.000000       3.000000   \n",
       "50%     9261.500000          2.000000                 5.000000       4.000000   \n",
       "75%    13892.250000          4.000000                 8.000000       6.000000   \n",
       "max    18523.000000         11.000000                10.000000       7.000000   \n",
       "\n",
       "       Friends_circle_size  Post_frequency  \n",
       "count         17470.000000    17260.000000  \n",
       "mean              7.996737        4.982097  \n",
       "std               4.223484        2.879139  \n",
       "min               0.000000        0.000000  \n",
       "25%               5.000000        3.000000  \n",
       "50%               8.000000        5.000000  \n",
       "75%              12.000000        7.000000  \n",
       "max              15.000000       10.000000  "
      ]
     },
     "execution_count": 32,
     "metadata": {},
     "output_type": "execute_result"
    }
   ],
   "source": [
    "train.describe()"
   ]
  },
  {
   "cell_type": "code",
   "execution_count": 33,
   "id": "88040535",
   "metadata": {
    "execution": {
     "iopub.execute_input": "2025-07-11T16:02:49.756063Z",
     "iopub.status.busy": "2025-07-11T16:02:49.755806Z",
     "iopub.status.idle": "2025-07-11T16:02:49.765470Z",
     "shell.execute_reply": "2025-07-11T16:02:49.764656Z"
    },
    "papermill": {
     "duration": 0.015929,
     "end_time": "2025-07-11T16:02:49.767080",
     "exception": false,
     "start_time": "2025-07-11T16:02:49.751151",
     "status": "completed"
    },
    "tags": []
   },
   "outputs": [
    {
     "data": {
      "text/plain": [
       "id                              0\n",
       "Time_spent_Alone             1190\n",
       "Stage_fear                   1893\n",
       "Social_event_attendance      1180\n",
       "Going_outside                1466\n",
       "Drained_after_socializing    1149\n",
       "Friends_circle_size          1054\n",
       "Post_frequency               1264\n",
       "Personality                     0\n",
       "dtype: int64"
      ]
     },
     "execution_count": 33,
     "metadata": {},
     "output_type": "execute_result"
    }
   ],
   "source": [
    "train.isnull().sum()"
   ]
  },
  {
   "cell_type": "code",
   "execution_count": 34,
   "id": "7c8d57c2",
   "metadata": {
    "execution": {
     "iopub.execute_input": "2025-07-11T16:02:49.776394Z",
     "iopub.status.busy": "2025-07-11T16:02:49.776123Z",
     "iopub.status.idle": "2025-07-11T16:02:49.785501Z",
     "shell.execute_reply": "2025-07-11T16:02:49.784606Z"
    },
    "papermill": {
     "duration": 0.015588,
     "end_time": "2025-07-11T16:02:49.786892",
     "exception": false,
     "start_time": "2025-07-11T16:02:49.771304",
     "status": "completed"
    },
    "tags": []
   },
   "outputs": [
    {
     "data": {
      "text/plain": [
       "id                             0\n",
       "Time_spent_Alone             425\n",
       "Stage_fear                   598\n",
       "Social_event_attendance      397\n",
       "Going_outside                466\n",
       "Drained_after_socializing    432\n",
       "Friends_circle_size          350\n",
       "Post_frequency               408\n",
       "dtype: int64"
      ]
     },
     "execution_count": 34,
     "metadata": {},
     "output_type": "execute_result"
    }
   ],
   "source": [
    "test.isnull().sum()"
   ]
  },
  {
   "cell_type": "code",
   "execution_count": 35,
   "id": "6490fedd",
   "metadata": {},
   "outputs": [
    {
     "name": "stdout",
     "output_type": "stream",
     "text": [
      "Help on class MissingIndicator in module sklearn.impute._base:\n",
      "\n",
      "class MissingIndicator(sklearn.base.TransformerMixin, sklearn.base.BaseEstimator)\n",
      " |  MissingIndicator(*, missing_values=nan, features='missing-only', sparse='auto', error_on_new=True)\n",
      " |\n",
      " |  Binary indicators for missing values.\n",
      " |\n",
      " |  Note that this component typically should not be used in a vanilla\n",
      " |  :class:`~sklearn.pipeline.Pipeline` consisting of transformers and a\n",
      " |  classifier, but rather could be added using a\n",
      " |  :class:`~sklearn.pipeline.FeatureUnion` or\n",
      " |  :class:`~sklearn.compose.ColumnTransformer`.\n",
      " |\n",
      " |  Read more in the :ref:`User Guide <impute>`.\n",
      " |\n",
      " |  .. versionadded:: 0.20\n",
      " |\n",
      " |  Parameters\n",
      " |  ----------\n",
      " |  missing_values : int, float, str, np.nan or None, default=np.nan\n",
      " |      The placeholder for the missing values. All occurrences of\n",
      " |      `missing_values` will be imputed. For pandas' dataframes with\n",
      " |      nullable integer dtypes with missing values, `missing_values`\n",
      " |      should be set to `np.nan`, since `pd.NA` will be converted to `np.nan`.\n",
      " |\n",
      " |  features : {'missing-only', 'all'}, default='missing-only'\n",
      " |      Whether the imputer mask should represent all or a subset of\n",
      " |      features.\n",
      " |\n",
      " |      - If `'missing-only'` (default), the imputer mask will only represent\n",
      " |        features containing missing values during fit time.\n",
      " |      - If `'all'`, the imputer mask will represent all features.\n",
      " |\n",
      " |  sparse : bool or 'auto', default='auto'\n",
      " |      Whether the imputer mask format should be sparse or dense.\n",
      " |\n",
      " |      - If `'auto'` (default), the imputer mask will be of same type as\n",
      " |        input.\n",
      " |      - If `True`, the imputer mask will be a sparse matrix.\n",
      " |      - If `False`, the imputer mask will be a numpy array.\n",
      " |\n",
      " |  error_on_new : bool, default=True\n",
      " |      If `True`, :meth:`transform` will raise an error when there are\n",
      " |      features with missing values that have no missing values in\n",
      " |      :meth:`fit`. This is applicable only when `features='missing-only'`.\n",
      " |\n",
      " |  Attributes\n",
      " |  ----------\n",
      " |  features_ : ndarray of shape (n_missing_features,) or (n_features,)\n",
      " |      The features indices which will be returned when calling\n",
      " |      :meth:`transform`. They are computed during :meth:`fit`. If\n",
      " |      `features='all'`, `features_` is equal to `range(n_features)`.\n",
      " |\n",
      " |  n_features_in_ : int\n",
      " |      Number of features seen during :term:`fit`.\n",
      " |\n",
      " |      .. versionadded:: 0.24\n",
      " |\n",
      " |  feature_names_in_ : ndarray of shape (`n_features_in_`,)\n",
      " |      Names of features seen during :term:`fit`. Defined only when `X`\n",
      " |      has feature names that are all strings.\n",
      " |\n",
      " |      .. versionadded:: 1.0\n",
      " |\n",
      " |  See Also\n",
      " |  --------\n",
      " |  SimpleImputer : Univariate imputation of missing values.\n",
      " |  IterativeImputer : Multivariate imputation of missing values.\n",
      " |\n",
      " |  Examples\n",
      " |  --------\n",
      " |  >>> import numpy as np\n",
      " |  >>> from sklearn.impute import MissingIndicator\n",
      " |  >>> X1 = np.array([[np.nan, 1, 3],\n",
      " |  ...                [4, 0, np.nan],\n",
      " |  ...                [8, 1, 0]])\n",
      " |  >>> X2 = np.array([[5, 1, np.nan],\n",
      " |  ...                [np.nan, 2, 3],\n",
      " |  ...                [2, 4, 0]])\n",
      " |  >>> indicator = MissingIndicator()\n",
      " |  >>> indicator.fit(X1)\n",
      " |  MissingIndicator()\n",
      " |  >>> X2_tr = indicator.transform(X2)\n",
      " |  >>> X2_tr\n",
      " |  array([[False,  True],\n",
      " |         [ True, False],\n",
      " |         [False, False]])\n",
      " |\n",
      " |  Method resolution order:\n",
      " |      MissingIndicator\n",
      " |      sklearn.base.TransformerMixin\n",
      " |      sklearn.utils._set_output._SetOutputMixin\n",
      " |      sklearn.base.BaseEstimator\n",
      " |      sklearn.utils._repr_html.base.ReprHTMLMixin\n",
      " |      sklearn.utils._repr_html.base._HTMLDocumentationLinkMixin\n",
      " |      sklearn.utils._metadata_requests._MetadataRequester\n",
      " |      builtins.object\n",
      " |\n",
      " |  Methods defined here:\n",
      " |\n",
      " |  __init__(self, *, missing_values=nan, features='missing-only', sparse='auto', error_on_new=True)\n",
      " |      Initialize self.  See help(type(self)) for accurate signature.\n",
      " |\n",
      " |  __sklearn_tags__(self)\n",
      " |\n",
      " |  fit(self, X, y=None)\n",
      " |      Fit the transformer on `X`.\n",
      " |\n",
      " |      Parameters\n",
      " |      ----------\n",
      " |      X : {array-like, sparse matrix} of shape (n_samples, n_features)\n",
      " |          Input data, where `n_samples` is the number of samples and\n",
      " |          `n_features` is the number of features.\n",
      " |\n",
      " |      y : Ignored\n",
      " |          Not used, present for API consistency by convention.\n",
      " |\n",
      " |      Returns\n",
      " |      -------\n",
      " |      self : object\n",
      " |          Fitted estimator.\n",
      " |\n",
      " |  fit_transform(self, X, y=None)\n",
      " |      Generate missing values indicator for `X`.\n",
      " |\n",
      " |      Parameters\n",
      " |      ----------\n",
      " |      X : {array-like, sparse matrix} of shape (n_samples, n_features)\n",
      " |          The input data to complete.\n",
      " |\n",
      " |      y : Ignored\n",
      " |          Not used, present for API consistency by convention.\n",
      " |\n",
      " |      Returns\n",
      " |      -------\n",
      " |      Xt : {ndarray, sparse matrix} of shape (n_samples, n_features)         or (n_samples, n_features_with_missing)\n",
      " |          The missing indicator for input data. The data type of `Xt`\n",
      " |          will be boolean.\n",
      " |\n",
      " |  get_feature_names_out(self, input_features=None)\n",
      " |      Get output feature names for transformation.\n",
      " |\n",
      " |      Parameters\n",
      " |      ----------\n",
      " |      input_features : array-like of str or None, default=None\n",
      " |          Input features.\n",
      " |\n",
      " |          - If `input_features` is `None`, then `feature_names_in_` is\n",
      " |            used as feature names in. If `feature_names_in_` is not defined,\n",
      " |            then the following input feature names are generated:\n",
      " |            `[\"x0\", \"x1\", ..., \"x(n_features_in_ - 1)\"]`.\n",
      " |          - If `input_features` is an array-like, then `input_features` must\n",
      " |            match `feature_names_in_` if `feature_names_in_` is defined.\n",
      " |\n",
      " |      Returns\n",
      " |      -------\n",
      " |      feature_names_out : ndarray of str objects\n",
      " |          Transformed feature names.\n",
      " |\n",
      " |  transform(self, X)\n",
      " |      Generate missing values indicator for `X`.\n",
      " |\n",
      " |      Parameters\n",
      " |      ----------\n",
      " |      X : {array-like, sparse matrix} of shape (n_samples, n_features)\n",
      " |          The input data to complete.\n",
      " |\n",
      " |      Returns\n",
      " |      -------\n",
      " |      Xt : {ndarray, sparse matrix} of shape (n_samples, n_features)         or (n_samples, n_features_with_missing)\n",
      " |          The missing indicator for input data. The data type of `Xt`\n",
      " |          will be boolean.\n",
      " |\n",
      " |  ----------------------------------------------------------------------\n",
      " |  Data and other attributes defined here:\n",
      " |\n",
      " |  __annotations__ = {'_parameter_constraints': <class 'dict'>}\n",
      " |\n",
      " |  ----------------------------------------------------------------------\n",
      " |  Methods inherited from sklearn.utils._set_output._SetOutputMixin:\n",
      " |\n",
      " |  set_output(self, *, transform=None)\n",
      " |      Set output container.\n",
      " |\n",
      " |      See :ref:`sphx_glr_auto_examples_miscellaneous_plot_set_output.py`\n",
      " |      for an example on how to use the API.\n",
      " |\n",
      " |      Parameters\n",
      " |      ----------\n",
      " |      transform : {\"default\", \"pandas\", \"polars\"}, default=None\n",
      " |          Configure output of `transform` and `fit_transform`.\n",
      " |\n",
      " |          - `\"default\"`: Default output format of a transformer\n",
      " |          - `\"pandas\"`: DataFrame output\n",
      " |          - `\"polars\"`: Polars output\n",
      " |          - `None`: Transform configuration is unchanged\n",
      " |\n",
      " |          .. versionadded:: 1.4\n",
      " |              `\"polars\"` option was added.\n",
      " |\n",
      " |      Returns\n",
      " |      -------\n",
      " |      self : estimator instance\n",
      " |          Estimator instance.\n",
      " |\n",
      " |  ----------------------------------------------------------------------\n",
      " |  Class methods inherited from sklearn.utils._set_output._SetOutputMixin:\n",
      " |\n",
      " |  __init_subclass__(auto_wrap_output_keys=('transform',), **kwargs)\n",
      " |      Set the ``set_{method}_request`` methods.\n",
      " |\n",
      " |      This uses PEP-487 [1]_ to set the ``set_{method}_request`` methods. It\n",
      " |      looks for the information available in the set default values which are\n",
      " |      set using ``__metadata_request__*`` class attributes, or inferred\n",
      " |      from method signatures.\n",
      " |\n",
      " |      The ``__metadata_request__*`` class attributes are used when a method\n",
      " |      does not explicitly accept a metadata through its arguments or if the\n",
      " |      developer would like to specify a request value for those metadata\n",
      " |      which are different from the default ``None``.\n",
      " |\n",
      " |      References\n",
      " |      ----------\n",
      " |      .. [1] https://www.python.org/dev/peps/pep-0487\n",
      " |\n",
      " |  ----------------------------------------------------------------------\n",
      " |  Data descriptors inherited from sklearn.utils._set_output._SetOutputMixin:\n",
      " |\n",
      " |  __dict__\n",
      " |      dictionary for instance variables\n",
      " |\n",
      " |  __weakref__\n",
      " |      list of weak references to the object\n",
      " |\n",
      " |  ----------------------------------------------------------------------\n",
      " |  Methods inherited from sklearn.base.BaseEstimator:\n",
      " |\n",
      " |  __getstate__(self)\n",
      " |      Helper for pickle.\n",
      " |\n",
      " |  __repr__(self, N_CHAR_MAX=700)\n",
      " |      Return repr(self).\n",
      " |\n",
      " |  __setstate__(self, state)\n",
      " |\n",
      " |  __sklearn_clone__(self)\n",
      " |\n",
      " |  get_params(self, deep=True)\n",
      " |      Get parameters for this estimator.\n",
      " |\n",
      " |      Parameters\n",
      " |      ----------\n",
      " |      deep : bool, default=True\n",
      " |          If True, will return the parameters for this estimator and\n",
      " |          contained subobjects that are estimators.\n",
      " |\n",
      " |      Returns\n",
      " |      -------\n",
      " |      params : dict\n",
      " |          Parameter names mapped to their values.\n",
      " |\n",
      " |  set_params(self, **params)\n",
      " |      Set the parameters of this estimator.\n",
      " |\n",
      " |      The method works on simple estimators as well as on nested objects\n",
      " |      (such as :class:`~sklearn.pipeline.Pipeline`). The latter have\n",
      " |      parameters of the form ``<component>__<parameter>`` so that it's\n",
      " |      possible to update each component of a nested object.\n",
      " |\n",
      " |      Parameters\n",
      " |      ----------\n",
      " |      **params : dict\n",
      " |          Estimator parameters.\n",
      " |\n",
      " |      Returns\n",
      " |      -------\n",
      " |      self : estimator instance\n",
      " |          Estimator instance.\n",
      " |\n",
      " |  ----------------------------------------------------------------------\n",
      " |  Methods inherited from sklearn.utils._metadata_requests._MetadataRequester:\n",
      " |\n",
      " |  get_metadata_routing(self)\n",
      " |      Get metadata routing of this object.\n",
      " |\n",
      " |      Please check :ref:`User Guide <metadata_routing>` on how the routing\n",
      " |      mechanism works.\n",
      " |\n",
      " |      Returns\n",
      " |      -------\n",
      " |      routing : MetadataRequest\n",
      " |          A :class:`~sklearn.utils.metadata_routing.MetadataRequest` encapsulating\n",
      " |          routing information.\n",
      "\n"
     ]
    }
   ],
   "source": [
    "import sklearn.impute\n",
    "dir(sklearn.impute)\n",
    "help(sklearn.impute.MissingIndicator)"
   ]
  },
  {
   "cell_type": "markdown",
   "id": "640bb0df",
   "metadata": {
    "papermill": {
     "duration": 0.003824,
     "end_time": "2025-07-11T16:02:49.795019",
     "exception": false,
     "start_time": "2025-07-11T16:02:49.791195",
     "status": "completed"
    },
    "tags": []
   },
   "source": [
    "### Handling missing values"
   ]
  },
  {
   "cell_type": "code",
   "execution_count": 36,
   "id": "054a9c9b",
   "metadata": {
    "execution": {
     "iopub.execute_input": "2025-07-11T16:02:49.805592Z",
     "iopub.status.busy": "2025-07-11T16:02:49.805305Z",
     "iopub.status.idle": "2025-07-11T16:02:59.453299Z",
     "shell.execute_reply": "2025-07-11T16:02:59.452290Z"
    },
    "papermill": {
     "duration": 9.655631,
     "end_time": "2025-07-11T16:02:59.454899",
     "exception": false,
     "start_time": "2025-07-11T16:02:49.799268",
     "status": "completed"
    },
    "tags": []
   },
   "outputs": [
    {
     "data": {
      "text/html": [
       "<div>\n",
       "<style scoped>\n",
       "    .dataframe tbody tr th:only-of-type {\n",
       "        vertical-align: middle;\n",
       "    }\n",
       "\n",
       "    .dataframe tbody tr th {\n",
       "        vertical-align: top;\n",
       "    }\n",
       "\n",
       "    .dataframe thead th {\n",
       "        text-align: right;\n",
       "    }\n",
       "</style>\n",
       "<table border=\"1\" class=\"dataframe\">\n",
       "  <thead>\n",
       "    <tr style=\"text-align: right;\">\n",
       "      <th></th>\n",
       "      <th>id</th>\n",
       "      <th>Time_spent_Alone</th>\n",
       "      <th>Social_event_attendance</th>\n",
       "      <th>Going_outside</th>\n",
       "      <th>Friends_circle_size</th>\n",
       "      <th>Post_frequency</th>\n",
       "    </tr>\n",
       "  </thead>\n",
       "  <tbody>\n",
       "    <tr>\n",
       "      <th>0</th>\n",
       "      <td>0.0</td>\n",
       "      <td>0.0</td>\n",
       "      <td>6.0</td>\n",
       "      <td>4.0</td>\n",
       "      <td>15.0</td>\n",
       "      <td>5.0</td>\n",
       "    </tr>\n",
       "    <tr>\n",
       "      <th>1</th>\n",
       "      <td>1.0</td>\n",
       "      <td>1.0</td>\n",
       "      <td>7.0</td>\n",
       "      <td>3.0</td>\n",
       "      <td>10.0</td>\n",
       "      <td>8.0</td>\n",
       "    </tr>\n",
       "    <tr>\n",
       "      <th>2</th>\n",
       "      <td>2.0</td>\n",
       "      <td>6.0</td>\n",
       "      <td>1.0</td>\n",
       "      <td>0.0</td>\n",
       "      <td>3.0</td>\n",
       "      <td>0.0</td>\n",
       "    </tr>\n",
       "    <tr>\n",
       "      <th>3</th>\n",
       "      <td>3.0</td>\n",
       "      <td>3.0</td>\n",
       "      <td>7.0</td>\n",
       "      <td>3.0</td>\n",
       "      <td>11.0</td>\n",
       "      <td>5.0</td>\n",
       "    </tr>\n",
       "    <tr>\n",
       "      <th>4</th>\n",
       "      <td>4.0</td>\n",
       "      <td>1.0</td>\n",
       "      <td>4.0</td>\n",
       "      <td>4.0</td>\n",
       "      <td>13.0</td>\n",
       "      <td>5.0</td>\n",
       "    </tr>\n",
       "    <tr>\n",
       "      <th>...</th>\n",
       "      <td>...</td>\n",
       "      <td>...</td>\n",
       "      <td>...</td>\n",
       "      <td>...</td>\n",
       "      <td>...</td>\n",
       "      <td>...</td>\n",
       "    </tr>\n",
       "    <tr>\n",
       "      <th>18519</th>\n",
       "      <td>18519.0</td>\n",
       "      <td>3.0</td>\n",
       "      <td>7.0</td>\n",
       "      <td>3.0</td>\n",
       "      <td>9.0</td>\n",
       "      <td>7.0</td>\n",
       "    </tr>\n",
       "    <tr>\n",
       "      <th>18520</th>\n",
       "      <td>18520.0</td>\n",
       "      <td>1.0</td>\n",
       "      <td>6.0</td>\n",
       "      <td>7.0</td>\n",
       "      <td>6.0</td>\n",
       "      <td>5.0</td>\n",
       "    </tr>\n",
       "    <tr>\n",
       "      <th>18521</th>\n",
       "      <td>18521.0</td>\n",
       "      <td>7.0</td>\n",
       "      <td>1.0</td>\n",
       "      <td>1.0</td>\n",
       "      <td>1.0</td>\n",
       "      <td>5.6</td>\n",
       "    </tr>\n",
       "    <tr>\n",
       "      <th>18522</th>\n",
       "      <td>18522.0</td>\n",
       "      <td>3.4</td>\n",
       "      <td>1.0</td>\n",
       "      <td>0.0</td>\n",
       "      <td>5.0</td>\n",
       "      <td>2.0</td>\n",
       "    </tr>\n",
       "    <tr>\n",
       "      <th>18523</th>\n",
       "      <td>18523.0</td>\n",
       "      <td>1.0</td>\n",
       "      <td>8.0</td>\n",
       "      <td>6.0</td>\n",
       "      <td>4.0</td>\n",
       "      <td>7.0</td>\n",
       "    </tr>\n",
       "  </tbody>\n",
       "</table>\n",
       "<p>18524 rows × 6 columns</p>\n",
       "</div>"
      ],
      "text/plain": [
       "            id  Time_spent_Alone  Social_event_attendance  Going_outside  \\\n",
       "0          0.0               0.0                      6.0            4.0   \n",
       "1          1.0               1.0                      7.0            3.0   \n",
       "2          2.0               6.0                      1.0            0.0   \n",
       "3          3.0               3.0                      7.0            3.0   \n",
       "4          4.0               1.0                      4.0            4.0   \n",
       "...        ...               ...                      ...            ...   \n",
       "18519  18519.0               3.0                      7.0            3.0   \n",
       "18520  18520.0               1.0                      6.0            7.0   \n",
       "18521  18521.0               7.0                      1.0            1.0   \n",
       "18522  18522.0               3.4                      1.0            0.0   \n",
       "18523  18523.0               1.0                      8.0            6.0   \n",
       "\n",
       "       Friends_circle_size  Post_frequency  \n",
       "0                     15.0             5.0  \n",
       "1                     10.0             8.0  \n",
       "2                      3.0             0.0  \n",
       "3                     11.0             5.0  \n",
       "4                     13.0             5.0  \n",
       "...                    ...             ...  \n",
       "18519                  9.0             7.0  \n",
       "18520                  6.0             5.0  \n",
       "18521                  1.0             5.6  \n",
       "18522                  5.0             2.0  \n",
       "18523                  4.0             7.0  \n",
       "\n",
       "[18524 rows x 6 columns]"
      ]
     },
     "execution_count": 36,
     "metadata": {},
     "output_type": "execute_result"
    }
   ],
   "source": [
    "import pandas as pd\n",
    "import numpy as np\n",
    "from sklearn.impute import KNNImputer, SimpleImputer,MissingIndicator\n",
    "from sklearn.preprocessing import LabelEncoder\n",
    "from sklearn.model_selection import train_test_split\n",
    "from sklearn.metrics import accuracy_score\n",
    "from sklearn.ensemble import RandomForestClassifier\n",
    "from sklearn.preprocessing import StandardScaler\n",
    "# Identify features\n",
    "train_cat_features = train.select_dtypes(include=['object']).columns.tolist()\n",
    "train_num_features = train.select_dtypes(include=['int64', 'float64']).columns.tolist()\n",
    "test_cat_features = test.select_dtypes(include=['object']).columns.tolist()\n",
    "test_num_features = test.select_dtypes(include=['int64', 'float64']).columns.tolist()\n",
    "\n",
    "\n",
    "mis = MissingIndicator()\n",
    "k = mis.fit(train[train_num_features])\n",
    "\n",
    "# Fill numerical missing values with KNN imputer\n",
    "knn_imputer = KNNImputer(n_neighbors=5)\n",
    "train_num_imputed = knn_imputer.fit_transform(train[train_num_features])\n",
    "test_num_imputed = knn_imputer.transform(test[test_num_features])   \n",
    "\n",
    "train_num_imputed = pd.DataFrame(train_num_imputed, columns=train_num_features)\n",
    "test_num_imputed = pd.DataFrame(test_num_imputed, columns=test_num_features)\n",
    "train_num_imputed\n",
    "\n",
    "\n",
    "# Fill categorical missing values with mode\n",
    "\n"
   ]
  },
  {
   "cell_type": "code",
   "execution_count": 37,
   "id": "561e4bdd",
   "metadata": {},
   "outputs": [
    {
     "data": {
      "text/plain": [
       "id                         0\n",
       "Time_spent_Alone           0\n",
       "Social_event_attendance    0\n",
       "Going_outside              0\n",
       "Friends_circle_size        0\n",
       "Post_frequency             0\n",
       "dtype: int64"
      ]
     },
     "execution_count": 37,
     "metadata": {},
     "output_type": "execute_result"
    }
   ],
   "source": [
    "train_num_imputed.isnull().sum()"
   ]
  },
  {
   "cell_type": "code",
   "execution_count": null,
   "id": "9eb528d6",
   "metadata": {},
   "outputs": [],
   "source": []
  },
  {
   "cell_type": "code",
   "execution_count": 38,
   "id": "ded058f1",
   "metadata": {},
   "outputs": [
    {
     "name": "stdout",
     "output_type": "stream",
     "text": [
      "0\n",
      "1190\n",
      "1180\n",
      "1466\n",
      "1054\n",
      "1264\n"
     ]
    }
   ],
   "source": [
    "for col in train_num_features:\n",
    "    print(train[col].isnull().sum())"
   ]
  },
  {
   "cell_type": "code",
   "execution_count": 39,
   "id": "4b525ab7",
   "metadata": {
    "execution": {
     "iopub.execute_input": "2025-07-11T16:02:59.464518Z",
     "iopub.status.busy": "2025-07-11T16:02:59.464106Z",
     "iopub.status.idle": "2025-07-11T16:02:59.477594Z",
     "shell.execute_reply": "2025-07-11T16:02:59.476723Z"
    },
    "papermill": {
     "duration": 0.019935,
     "end_time": "2025-07-11T16:02:59.479102",
     "exception": false,
     "start_time": "2025-07-11T16:02:59.459167",
     "status": "completed"
    },
    "tags": []
   },
   "outputs": [
    {
     "name": "stdout",
     "output_type": "stream",
     "text": [
      "id                              0\n",
      "Time_spent_Alone             1190\n",
      "Stage_fear                   1893\n",
      "Social_event_attendance      1180\n",
      "Going_outside                1466\n",
      "Drained_after_socializing    1149\n",
      "Friends_circle_size          1054\n",
      "Post_frequency               1264\n",
      "Personality                     0\n",
      "dtype: int64\n"
     ]
    },
    {
     "data": {
      "text/plain": [
       "id                             0\n",
       "Time_spent_Alone             425\n",
       "Stage_fear                   598\n",
       "Social_event_attendance      397\n",
       "Going_outside                466\n",
       "Drained_after_socializing    432\n",
       "Friends_circle_size          350\n",
       "Post_frequency               408\n",
       "dtype: int64"
      ]
     },
     "execution_count": 39,
     "metadata": {},
     "output_type": "execute_result"
    }
   ],
   "source": [
    "print(train.isnull().sum())\n",
    "test.isnull().sum()"
   ]
  },
  {
   "cell_type": "markdown",
   "id": "221b1914",
   "metadata": {
    "papermill": {
     "duration": 0.004046,
     "end_time": "2025-07-11T16:02:59.487646",
     "exception": false,
     "start_time": "2025-07-11T16:02:59.483600",
     "status": "completed"
    },
    "tags": []
   },
   "source": [
    "### Encoding Categorical Features (Label Encoding)"
   ]
  },
  {
   "cell_type": "code",
   "execution_count": 40,
   "id": "f33443cb",
   "metadata": {
    "execution": {
     "iopub.execute_input": "2025-07-11T16:02:59.497565Z",
     "iopub.status.busy": "2025-07-11T16:02:59.497260Z",
     "iopub.status.idle": "2025-07-11T16:02:59.511355Z",
     "shell.execute_reply": "2025-07-11T16:02:59.510555Z"
    },
    "papermill": {
     "duration": 0.020829,
     "end_time": "2025-07-11T16:02:59.512870",
     "exception": false,
     "start_time": "2025-07-11T16:02:59.492041",
     "status": "completed"
    },
    "tags": []
   },
   "outputs": [
    {
     "ename": "NameError",
     "evalue": "name 'cat_features' is not defined",
     "output_type": "error",
     "traceback": [
      "\u001b[1;31m---------------------------------------------------------------------------\u001b[0m",
      "\u001b[1;31mNameError\u001b[0m                                 Traceback (most recent call last)",
      "Cell \u001b[1;32mIn[40], line 2\u001b[0m\n\u001b[0;32m      1\u001b[0m \u001b[38;5;66;03m# Encode categorical features (train and test together)\u001b[39;00m\n\u001b[1;32m----> 2\u001b[0m \u001b[38;5;28;01mfor\u001b[39;00m col \u001b[38;5;129;01min\u001b[39;00m \u001b[43mcat_features\u001b[49m:\n\u001b[0;32m      3\u001b[0m     le \u001b[38;5;241m=\u001b[39m LabelEncoder()\n\u001b[0;32m      4\u001b[0m     train[col] \u001b[38;5;241m=\u001b[39m le\u001b[38;5;241m.\u001b[39mfit_transform(train[col])\n",
      "\u001b[1;31mNameError\u001b[0m: name 'cat_features' is not defined"
     ]
    }
   ],
   "source": [
    "# Encode categorical features (train and test together)\n",
    "for col in cat_features:\n",
    "    le = LabelEncoder()\n",
    "    train[col] = le.fit_transform(train[col])\n",
    "    test[col] = le.transform(test[col])"
   ]
  },
  {
   "cell_type": "markdown",
   "id": "1744d7a7",
   "metadata": {
    "papermill": {
     "duration": 0.004001,
     "end_time": "2025-07-11T16:02:59.521068",
     "exception": false,
     "start_time": "2025-07-11T16:02:59.517067",
     "status": "completed"
    },
    "tags": []
   },
   "source": [
    "### Encode Target & Split"
   ]
  },
  {
   "cell_type": "code",
   "execution_count": null,
   "id": "f379e54c",
   "metadata": {
    "execution": {
     "iopub.execute_input": "2025-07-11T16:02:59.531396Z",
     "iopub.status.busy": "2025-07-11T16:02:59.531107Z",
     "iopub.status.idle": "2025-07-11T16:02:59.543583Z",
     "shell.execute_reply": "2025-07-11T16:02:59.542788Z"
    },
    "papermill": {
     "duration": 0.019399,
     "end_time": "2025-07-11T16:02:59.544947",
     "exception": false,
     "start_time": "2025-07-11T16:02:59.525548",
     "status": "completed"
    },
    "tags": []
   },
   "outputs": [],
   "source": [
    "# Encode target\n",
    "target_le = LabelEncoder()\n",
    "train['Personality'] = target_le.fit_transform(train['Personality'])  # Introvert/Extrovert\n",
    "\n",
    "X = train.drop(['id', 'Personality'], axis=1)\n",
    "y = train['Personality']\n",
    "X_test = test.drop(['id'], axis=1)"
   ]
  },
  {
   "cell_type": "markdown",
   "id": "662ea8fc",
   "metadata": {
    "papermill": {
     "duration": 0.003726,
     "end_time": "2025-07-11T16:02:59.552851",
     "exception": false,
     "start_time": "2025-07-11T16:02:59.549125",
     "status": "completed"
    },
    "tags": []
   },
   "source": [
    "## Random forest\n",
    "\n",
    "- An ensemble learning method using multiple decision trees.\n",
    "- Achieved ~0.9655 validation accuracy."
   ]
  },
  {
   "cell_type": "code",
   "execution_count": null,
   "id": "6946a640",
   "metadata": {
    "execution": {
     "iopub.execute_input": "2025-07-11T16:02:59.561848Z",
     "iopub.status.busy": "2025-07-11T16:02:59.561596Z",
     "iopub.status.idle": "2025-07-11T16:02:59.565798Z",
     "shell.execute_reply": "2025-07-11T16:02:59.564820Z"
    },
    "papermill": {
     "duration": 0.010267,
     "end_time": "2025-07-11T16:02:59.567126",
     "exception": false,
     "start_time": "2025-07-11T16:02:59.556859",
     "status": "completed"
    },
    "tags": []
   },
   "outputs": [],
   "source": [
    "# X_train, X_val, y_train, y_val = train_test_split(X, y, test_size=0.2, random_state=42)\n",
    "\n",
    "# model = RandomForestClassifier(n_estimators=200, random_state=42)\n",
    "# model.fit(X_train, y_train)\n",
    "\n",
    "# # Validation accuracy\n",
    "# y_pred = model.predict(X_val)\n",
    "# acc = accuracy_score(y_val, y_pred)\n",
    "# print(f\"Validation Accuracy: {acc:.4f}\")"
   ]
  },
  {
   "cell_type": "markdown",
   "id": "b062f36f",
   "metadata": {
    "papermill": {
     "duration": 0.003944,
     "end_time": "2025-07-11T16:02:59.575346",
     "exception": false,
     "start_time": "2025-07-11T16:02:59.571402",
     "status": "completed"
    },
    "tags": []
   },
   "source": [
    "## XGBoost\n",
    "\n",
    "- A gradient boosting framework optimized for speed and performance.\n",
    "- Achieved up to ~0.9679 accuracy using boosting strategy."
   ]
  },
  {
   "cell_type": "code",
   "execution_count": null,
   "id": "0573ae42",
   "metadata": {
    "execution": {
     "iopub.execute_input": "2025-07-11T16:02:59.584840Z",
     "iopub.status.busy": "2025-07-11T16:02:59.584477Z",
     "iopub.status.idle": "2025-07-11T16:02:59.589090Z",
     "shell.execute_reply": "2025-07-11T16:02:59.588068Z"
    },
    "papermill": {
     "duration": 0.011258,
     "end_time": "2025-07-11T16:02:59.590647",
     "exception": false,
     "start_time": "2025-07-11T16:02:59.579389",
     "status": "completed"
    },
    "tags": []
   },
   "outputs": [],
   "source": [
    "# import xgboost as xgb\n",
    "# from sklearn.model_selection import train_test_split\n",
    "# from sklearn.metrics import accuracy_score\n",
    "\n",
    "# X = train.drop(columns=['id', 'Personality'])\n",
    "# y = train['Personality']\n",
    "# X_test = test.drop(columns=['id'])\n",
    "\n",
    "# X_train, X_val, y_train, y_val = train_test_split(X, y, test_size=0.2, random_state=42)\n",
    "\n",
    "# model = xgb.XGBClassifier(n_estimators=300, learning_rate=0.05, max_depth=6, use_label_encoder=False, eval_metric='logloss')\n",
    "# model.fit(X_train, y_train)\n",
    "\n",
    "# y_pred = model.predict(X_val)\n",
    "# acc = accuracy_score(y_val, y_pred)\n",
    "# print(f\"XGBoost Accuracy: {acc:.4f}\")"
   ]
  },
  {
   "cell_type": "markdown",
   "id": "53b42bba",
   "metadata": {
    "papermill": {
     "duration": 0.003826,
     "end_time": "2025-07-11T16:02:59.598649",
     "exception": false,
     "start_time": "2025-07-11T16:02:59.594823",
     "status": "completed"
    },
    "tags": []
   },
   "source": [
    "## CatBoost\n",
    "\n",
    "- Gradient boosting library optimized for categorical features.\n",
    "-  Achieved up to ~0.9690 accuracy using boosting strategy."
   ]
  },
  {
   "cell_type": "code",
   "execution_count": null,
   "id": "b7dc8dcd",
   "metadata": {
    "execution": {
     "iopub.execute_input": "2025-07-11T16:02:59.608044Z",
     "iopub.status.busy": "2025-07-11T16:02:59.607756Z",
     "iopub.status.idle": "2025-07-11T16:03:01.273304Z",
     "shell.execute_reply": "2025-07-11T16:03:01.272140Z"
    },
    "papermill": {
     "duration": 1.672159,
     "end_time": "2025-07-11T16:03:01.274811",
     "exception": false,
     "start_time": "2025-07-11T16:02:59.602652",
     "status": "completed"
    },
    "tags": []
   },
   "outputs": [
    {
     "name": "stdout",
     "output_type": "stream",
     "text": [
      "      id Personality\n",
      "0  18524   Introvert\n",
      "1  18525   Extrovert\n",
      "2  18526   Introvert\n",
      "3  18527   Introvert\n",
      "4  18528   Extrovert\n"
     ]
    }
   ],
   "source": [
    "import pandas as pd\n",
    "import numpy as np\n",
    "from sklearn.model_selection import train_test_split\n",
    "from catboost import CatBoostClassifier\n",
    "from sklearn.metrics import accuracy_score\n",
    "\n",
    "# Mapping (You MUST define this based on your dataset)\n",
    "# Example: 0 -> Introvert, 1 -> Extrovert\n",
    "label_map = {0: \"Introvert\", 1: \"Extrovert\"}\n",
    "\n",
    "# Handle missing values\n",
    "for df in [train, test]:\n",
    "    df['Stage_fear'] = df['Stage_fear'].fillna(df['Stage_fear'].mode()[0])\n",
    "    df['Drained_after_socializing'] = df['Drained_after_socializing'].fillna(df['Drained_after_socializing'].mode()[0])\n",
    "    num_cols = ['Time_spent_Alone', 'Social_event_attendance', 'Going_outside', 'Friends_circle_size', 'Post_frequency']\n",
    "    for col in num_cols:\n",
    "        df[col] = df[col].fillna(df[col].mean())\n",
    "\n",
    "# Categorical features\n",
    "cat_cols = ['Stage_fear', 'Drained_after_socializing']\n",
    "\n",
    "# Features and Target\n",
    "X = train.drop(columns=['id', 'Personality'])\n",
    "y = train['Personality']\n",
    "X_test = test.drop(columns=['id'])\n",
    "test_ids = test['id']\n",
    "\n",
    "# Split for validation\n",
    "X_train, X_valid, y_train, y_valid = train_test_split(X, y, test_size=0.2, random_state=42)\n",
    "\n",
    "# Train CatBoost\n",
    "model = CatBoostClassifier(\n",
    "    iterations=1000,\n",
    "    learning_rate=0.05,\n",
    "    depth=6,\n",
    "    cat_features=cat_cols,\n",
    "    eval_metric=\"Accuracy\",\n",
    "    early_stopping_rounds=100,\n",
    "    verbose=False\n",
    ")\n",
    "\n",
    "model.fit(X_train, y_train, eval_set=(X_valid, y_valid), verbose=False)\n",
    "\n",
    "# Evaluate accuracy\n",
    "val_preds = model.predict(X_valid)\n",
    "val_acc = accuracy_score(y_valid, val_preds)\n",
    "#print(f\"✅ CatBoost Validation Accuracy: {val_acc:.4f}\")\n",
    "\n",
    "# Predict on test set\n",
    "test_preds_num = model.predict(X_test)\n",
    "\n",
    "# Map numeric predictions to original labels\n",
    "test_preds_label = [label_map[i] for i in test_preds_num]\n",
    "\n",
    "# Create submission\n",
    "submission = pd.DataFrame({\n",
    "    \"id\": test_ids,\n",
    "    \"Personality\": test_preds_label\n",
    "})\n",
    "\n",
    "submission.to_csv(\"submission.csv\", index=False)\n",
    "# print(\"\\n✅ Submission saved as 'submission.csv'\")\n",
    "print(submission.head())"
   ]
  }
 ],
 "metadata": {
  "kaggle": {
   "accelerator": "none",
   "dataSources": [
    {
     "databundleVersionId": 12738969,
     "sourceId": 91718,
     "sourceType": "competition"
    }
   ],
   "dockerImageVersionId": 31089,
   "isGpuEnabled": false,
   "isInternetEnabled": true,
   "language": "python",
   "sourceType": "notebook"
  },
  "kernelspec": {
   "display_name": "Python 3",
   "language": "python",
   "name": "python3"
  },
  "language_info": {
   "codemirror_mode": {
    "name": "ipython",
    "version": 3
   },
   "file_extension": ".py",
   "mimetype": "text/x-python",
   "name": "python",
   "nbconvert_exporter": "python",
   "pygments_lexer": "ipython3",
   "version": "3.12.10"
  },
  "papermill": {
   "default_parameters": {},
   "duration": 18.972889,
   "end_time": "2025-07-11T16:03:01.899363",
   "environment_variables": {},
   "exception": null,
   "input_path": "__notebook__.ipynb",
   "output_path": "__notebook__.ipynb",
   "parameters": {},
   "start_time": "2025-07-11T16:02:42.926474",
   "version": "2.6.0"
  }
 },
 "nbformat": 4,
 "nbformat_minor": 5
}
